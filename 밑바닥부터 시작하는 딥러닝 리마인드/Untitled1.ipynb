{
 "cells": [
  {
   "cell_type": "markdown",
   "id": "2403d419-2b18-47c7-8d7b-73a620c203a8",
   "metadata": {},
   "source": [
    "### 계산 그래프 파이썬 코드"
   ]
  },
  {
   "cell_type": "code",
   "execution_count": 6,
   "id": "488b6682-8324-4d8e-9b9c-1834f3860715",
   "metadata": {},
   "outputs": [
    {
     "name": "stdout",
     "output_type": "stream",
     "text": [
      "총 과일 가격은 715원 입니다.\n"
     ]
    }
   ],
   "source": [
    "class Calculator:\n",
    "    def __init__(self, apple_p, orange_p):\n",
    "        self.apple_price = apple_p\n",
    "        self.orange_price = orange_p\n",
    "\n",
    "    def sum(self, node_a, node_b):\n",
    "        return node_a + node_b\n",
    "\n",
    "    def multiply(self, node_a, node_b):\n",
    "        return node_a * node_b\n",
    "\n",
    "    def calculate_total_price(self, apple_cnt, orange_cnt, tax):\n",
    "        apple_price = self.multiply(self.apple_price, apple_cnt)\n",
    "        orange_price = self.multiply(self.orange_price, orange_cnt)\n",
    "\n",
    "        fruit_price = self.sum(apple_price, orange_price)\n",
    "\n",
    "        price_after_tax = self.multiply(fruit_price, tax)\n",
    "\n",
    "        return price_after_tax\n",
    "\n",
    "\n",
    "calc = Calculator(100, 150)\n",
    "\n",
    "apple_count = 2\n",
    "orange_count = 3\n",
    "tax = 1.1\n",
    "\n",
    "total_price = calc.calculate_total_price(apple_count, orange_count, tax)\n",
    "print(f'총 과일 가격은 {int(round(total_price))}원 입니다.')"
   ]
  },
  {
   "cell_type": "code",
   "execution_count": 18,
   "id": "f4c7a2cb-056c-4b94-b78e-5dcda0e969df",
   "metadata": {},
   "outputs": [
    {
     "name": "stdout",
     "output_type": "stream",
     "text": [
      "순전파 결과: 5.0\n",
      "역전파 결과 - dx: 1.5, dy: 1.5\n"
     ]
    }
   ],
   "source": [
    "class AddLayer:\n",
    "    def __init__(self):\n",
    "        pass\n",
    "\n",
    "    def forward(self, x, y):\n",
    "        out = x+y\n",
    "        \n",
    "        return out\n",
    "\n",
    "    def backward(self, dout):\n",
    "        dx = dout*1\n",
    "        dy = dout*1\n",
    "\n",
    "        return dx, dy\n",
    "\n",
    "\n",
    "x = 2.0\n",
    "y = 3.0\n",
    "\n",
    "add_layer = AddLayer()\n",
    "\n",
    "res = add_layer.forward(x, y)\n",
    "print(f\"순전파 결과: {res}\")\n",
    "\n",
    "dout = 1.5\n",
    "dx, dy = add_layer.backward(dout)\n",
    "print(f\"역전파 결과 - dx: {dx}, dy: {dy}\")"
   ]
  },
  {
   "cell_type": "code",
   "execution_count": 19,
   "id": "bc140799-7151-414b-8795-3c4482dd51ff",
   "metadata": {},
   "outputs": [
    {
     "name": "stdout",
     "output_type": "stream",
     "text": [
      "순전파 결과: 6.0\n",
      "역전파 결과 - dx: 3.0, dy: 2.0\n"
     ]
    }
   ],
   "source": [
    "class MulLayer:\n",
    "    def __init__(self):\n",
    "        self.x = None\n",
    "        self.y = None\n",
    "\n",
    "    def forward(self, x, y):\n",
    "        self.x = x\n",
    "        self.y = y\n",
    "        out = self.x * self.y\n",
    "\n",
    "        return out\n",
    "\n",
    "    def backward(self, dout):\n",
    "        dx = dout * self.y\n",
    "        dy = dout * self.x\n",
    "\n",
    "        return dx, dy\n",
    "\n",
    "\n",
    "x = 2.0\n",
    "y = 3.0\n",
    "\n",
    "mul_layer = MulLayer()\n",
    "\n",
    "res = mul_layer.forward(x, y)\n",
    "print(f\"순전파 결과: {res}\")\n",
    "\n",
    "dout = 1.0\n",
    "dx, dy = mul_layer.backward(dout)\n",
    "print(f\"역전파 결과 - dx: {dx}, dy: {dy}\")"
   ]
  },
  {
   "cell_type": "code",
   "execution_count": 20,
   "id": "caee027b-d52c-4eeb-be7b-02fca2df980b",
   "metadata": {},
   "outputs": [
    {
     "name": "stdout",
     "output_type": "stream",
     "text": [
      "순전파 결과: 0.5\n",
      "역전파 결과 - dx: -0.25\n"
     ]
    }
   ],
   "source": [
    "class InverseLayer:\n",
    "    def __init__(self):\n",
    "        self.x = None\n",
    "\n",
    "    def forward(self, x):\n",
    "        self.x = x\n",
    "        out = 1/x\n",
    "\n",
    "        return out\n",
    "\n",
    "    def backward(self, dout):\n",
    "        dx = dout * -self.x**-2\n",
    "\n",
    "        return dx\n",
    "\n",
    "\n",
    "x = 2.0\n",
    "\n",
    "ivs_layer = InverseLayer()\n",
    "\n",
    "res = ivs_layer.forward(x)\n",
    "print(f\"순전파 결과: {res}\")\n",
    "\n",
    "dout = 1.0\n",
    "dx = ivs_layer.backward(dout)\n",
    "print(f\"역전파 결과 - dx: {dx}\")"
   ]
  },
  {
   "cell_type": "code",
   "execution_count": 21,
   "id": "5886963e-324e-46d6-a9fe-3131ac704e58",
   "metadata": {},
   "outputs": [
    {
     "name": "stdout",
     "output_type": "stream",
     "text": [
      "순전파 결과: 7.38905609893065\n",
      "역전파 결과 - dx: 7.38905609893065\n"
     ]
    }
   ],
   "source": [
    "import numpy as np\n",
    "\n",
    "class ExpLayer:\n",
    "    def __init__(self):\n",
    "        self.x = None\n",
    "\n",
    "    def forward(self, x):\n",
    "        self.x = x\n",
    "        out = np.exp(x)\n",
    "\n",
    "        return out\n",
    "\n",
    "    def backward(self, dout):\n",
    "        dx = dout * np.exp(self.x)\n",
    "\n",
    "        return dx\n",
    "\n",
    "\n",
    "x = 2.0\n",
    "\n",
    "exp_layer = ExpLayer()\n",
    "\n",
    "res = exp_layer.forward(x)\n",
    "print(f\"순전파 결과: {res}\")\n",
    "\n",
    "dout = 1.0\n",
    "dx = exp_layer.backward(dout)\n",
    "print(f\"역전파 결과 - dx: {dx}\")"
   ]
  },
  {
   "cell_type": "code",
   "execution_count": 25,
   "id": "f2fb8b2e-afa1-47a5-8127-46be25c78596",
   "metadata": {},
   "outputs": [
    {
     "name": "stdout",
     "output_type": "stream",
     "text": [
      "순전파 결과: 0.8807970779778823\n",
      "역전파 결과 - dx: 0.10499358540350662\n"
     ]
    }
   ],
   "source": [
    "class SigmoidLayer:\n",
    "    def __init__(self):\n",
    "        self.out = None\n",
    "\n",
    "    def forward(self, x):\n",
    "        y = -x\n",
    "        y = np.exp(y)\n",
    "        y = y + 1\n",
    "        self.out = 1 / y\n",
    "        \n",
    "        return self.out\n",
    "\n",
    "    def backward(self, dout):\n",
    "        dx = dout * self.out * (1 - self.out)\n",
    "        \n",
    "        return dx\n",
    "\n",
    "\n",
    "sigmoid_layer = SigmoidLayer()\n",
    "\n",
    "x = 2.0\n",
    "res = sigmoid_layer.forward(x)\n",
    "print(f\"순전파 결과: {res}\")\n",
    "\n",
    "dout = 1.0\n",
    "dx = sigmoid_layer.backward(dout)\n",
    "print(f\"역전파 결과 - dx: {dx}\")"
   ]
  },
  {
   "cell_type": "code",
   "execution_count": 32,
   "id": "eb39c171-c3a9-43db-8dcd-2ad459f7bbc4",
   "metadata": {},
   "outputs": [
    {
     "name": "stdout",
     "output_type": "stream",
     "text": [
      "순전파 결과: [10 14 18]\n",
      "역전파 결과 - dx: [14 32]\n"
     ]
    }
   ],
   "source": [
    "class AffineLayer:\n",
    "    def __init__(self, W, b):\n",
    "        self.W = W\n",
    "        self.b = b\n",
    "        self.x = None\n",
    "        self.dW = None\n",
    "        self.db = None\n",
    "\n",
    "    def forward(self, x):\n",
    "        self.x = x\n",
    "        out = np.dot(x, self.W) + self.b\n",
    "\n",
    "        return out\n",
    "\n",
    "    def backward(self, dout):\n",
    "        dx = np.dot(dout, self.W.T)\n",
    "        self.dW = np.dot(self.x.reshape(-1,1), dout.reshape(1,-1))\n",
    "        self.db = np.sum(dout, axis=0)\n",
    "\n",
    "        return dx\n",
    "\n",
    "\n",
    "affine_layer = AffineLayer(np.array([[1,2,3],[4,5,6]]),np.array([1,2,3]))\n",
    "\n",
    "x = np.array([1,2])\n",
    "res = affine_layer.forward(x)\n",
    "print(f\"순전파 결과: {res}\")\n",
    "\n",
    "dout = np.array([1,2,3])\n",
    "dx = affine_layer.backward(dout)\n",
    "print(f\"역전파 결과 - dx: {dx}\")"
   ]
  },
  {
   "cell_type": "code",
   "execution_count": 50,
   "id": "289889a0-0a0b-4fb1-8f2b-75cdd1c5bdba",
   "metadata": {},
   "outputs": [
    {
     "ename": "NameError",
     "evalue": "name 'z2' is not defined",
     "output_type": "error",
     "traceback": [
      "\u001b[0;31m---------------------------------------------------------------------------\u001b[0m",
      "\u001b[0;31mNameError\u001b[0m                                 Traceback (most recent call last)",
      "Cell \u001b[0;32mIn[50], line 41\u001b[0m\n\u001b[1;32m     39\u001b[0m y_hat \u001b[38;5;241m=\u001b[39m nn\u001b[38;5;241m.\u001b[39mforward(x)\n\u001b[1;32m     40\u001b[0m loss \u001b[38;5;241m=\u001b[39m np\u001b[38;5;241m.\u001b[39mmean(np\u001b[38;5;241m.\u001b[39msquare(y_hat[:, \u001b[38;5;241m0\u001b[39m] \u001b[38;5;241m-\u001b[39m y))\n\u001b[0;32m---> 41\u001b[0m \u001b[43mnn\u001b[49m\u001b[38;5;241;43m.\u001b[39;49m\u001b[43mbackward\u001b[49m\u001b[43m(\u001b[49m\u001b[43mx\u001b[49m\u001b[43m,\u001b[49m\u001b[43m \u001b[49m\u001b[43my\u001b[49m\u001b[43m,\u001b[49m\u001b[43m \u001b[49m\u001b[43my_hat\u001b[49m\u001b[43m)\u001b[49m\n\u001b[1;32m     42\u001b[0m \u001b[38;5;28mprint\u001b[39m(loss)\n",
      "Cell \u001b[0;32mIn[50], line 24\u001b[0m, in \u001b[0;36mNeuralNetwork.backward\u001b[0;34m(self, x, y, y_hat)\u001b[0m\n\u001b[1;32m     22\u001b[0m \u001b[38;5;28;01mdef\u001b[39;00m \u001b[38;5;21mbackward\u001b[39m(\u001b[38;5;28mself\u001b[39m, x, y, y_hat):\n\u001b[1;32m     23\u001b[0m     delta2 \u001b[38;5;241m=\u001b[39m y_hat[:, \u001b[38;5;241m0\u001b[39m] \u001b[38;5;241m-\u001b[39m y\n\u001b[0;32m---> 24\u001b[0m     dz2 \u001b[38;5;241m=\u001b[39m delta2 \u001b[38;5;241m*\u001b[39m scipy\u001b[38;5;241m.\u001b[39mspecial\u001b[38;5;241m.\u001b[39mexpit(\u001b[43mz2\u001b[49m) \u001b[38;5;241m*\u001b[39m scipy\u001b[38;5;241m.\u001b[39mspecial\u001b[38;5;241m.\u001b[39mexpit(z2)\n\u001b[1;32m     25\u001b[0m     dw2 \u001b[38;5;241m=\u001b[39m np\u001b[38;5;241m.\u001b[39mdot(a1\u001b[38;5;241m.\u001b[39mT, dz2)\n\u001b[1;32m     26\u001b[0m     db2 \u001b[38;5;241m=\u001b[39m np\u001b[38;5;241m.\u001b[39msum(dz2, axis\u001b[38;5;241m=\u001b[39m\u001b[38;5;241m0\u001b[39m)\n",
      "\u001b[0;31mNameError\u001b[0m: name 'z2' is not defined"
     ]
    }
   ],
   "source": [
    "class SoftmaxWithLoss:\n",
    "    def __init__(self):\n",
    "        "
   ]
  },
  {
   "cell_type": "code",
   "execution_count": 39,
   "id": "032d4101-4556-45dd-83fa-7d7a118a00fe",
   "metadata": {},
   "outputs": [
    {
     "name": "stdout",
     "output_type": "stream",
     "text": [
      "[[0.76159416 0.76159416]\n",
      " [0.96402758 0.96402758]\n",
      " [0.96402758 0.96402758]\n",
      " [0.99505475 0.99505475]]\n"
     ]
    }
   ],
   "source": [
    "print(np.tanh(np.array([[1,1],[2,2],[2,2]])))"
   ]
  },
  {
   "cell_type": "code",
   "execution_count": 42,
   "id": "268d5cb8-145a-437e-be6f-8f9fccb7e0c2",
   "metadata": {},
   "outputs": [],
   "source": [
    "a = np.dot(np.tanh(np.array([[1,1],[2,2],[2,2],[3,3]])),np.array([[2,2],[2,2]]))"
   ]
  },
  {
   "cell_type": "code",
   "execution_count": 43,
   "id": "68060b6a-3022-4b47-bc19-7171bb5a1283",
   "metadata": {},
   "outputs": [
    {
     "name": "stdout",
     "output_type": "stream",
     "text": [
      "[[0.95462584 0.95462584]\n",
      " [0.97928796 0.97928796]\n",
      " [0.97928796 0.97928796]\n",
      " [0.98166105 0.98166105]]\n"
     ]
    }
   ],
   "source": [
    "print(scipy.special.expit(a))"
   ]
  },
  {
   "cell_type": "code",
   "execution_count": null,
   "id": "63d8645d-77c0-4308-b2a2-021b74b072b4",
   "metadata": {},
   "outputs": [],
   "source": []
  }
 ],
 "metadata": {
  "kernelspec": {
   "display_name": "Python 3 (ipykernel)",
   "language": "python",
   "name": "python3"
  },
  "language_info": {
   "codemirror_mode": {
    "name": "ipython",
    "version": 3
   },
   "file_extension": ".py",
   "mimetype": "text/x-python",
   "name": "python",
   "nbconvert_exporter": "python",
   "pygments_lexer": "ipython3",
   "version": "3.10.13"
  }
 },
 "nbformat": 4,
 "nbformat_minor": 5
}
