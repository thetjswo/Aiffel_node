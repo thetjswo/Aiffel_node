{
 "cells": [
  {
   "cell_type": "markdown",
   "id": "9406fd7e-97f6-4f88-9bd6-301994816c7e",
   "metadata": {},
   "source": [
    "## 오차제곱합\n",
    "\n",
    "$$\n",
    "E = {{1\\over2}\\sum_{k}{(y_k - t_k)^2}}\n",
    "$$\n",
    "* $y_k$: 신경망의 출력\n",
    "* $t_k$: 정답 레이블\n",
    "* $k$: 차원의 수"
   ]
  },
  {
   "cell_type": "code",
   "execution_count": 1,
   "id": "5beefba8-2d90-48f0-8911-eb49539e7d18",
   "metadata": {},
   "outputs": [
    {
     "name": "stdout",
     "output_type": "stream",
     "text": [
      "0.09750000000000003\n",
      "0.5975\n"
     ]
    }
   ],
   "source": [
    "import numpy as np\n",
    "\n",
    "def sum_squares_error(y, t):\n",
    "    return 0.5 * np.sum((y-t)**2)\n",
    "\n",
    "# 정답 레이블 - 원-핫 인코딩 사용(인덱스의 데이터가 0이면 False, 1이면 True로 True인 값의 인덱스가 실제 값)\n",
    "t = [0, 0, 1, 0, 0, 0, 0, 0, 0, 0]\n",
    "\n",
    "# 신경망 출력 결과 - 소프트맥스 함수를 활성화 함수로 사용(입력된 이미지가 각 숫자일 확률)\n",
    "# 입력 이미지가 2일 확률이 가장 높다고 가정\n",
    "y = [0.1, 0.05, 0.6, 0.0, 0.05, 0.1, 0.0, 0.1, 0.0, 0.0]\n",
    "print(sum_squares_error(np.array(y), np.array(t)))\n",
    "\n",
    "# 입력 이미지가 7일 확률이 가장 높다고 가정\n",
    "y = [0.1, 0.05, 0.1, 0.0, 0.05, 0.1, 0.0, 0.6, 0.0, 0.0]\n",
    "print(sum_squares_error(np.array(y), np.array(t)))"
   ]
  },
  {
   "cell_type": "markdown",
   "id": "4c2cf18b-9fcd-40ea-bfe1-9642211cb953",
   "metadata": {},
   "source": [
    "## 교차 엔트로피 오차\n",
    "\n",
    "$$\n",
    "E = -\\sum_{k}{t_k{\\log{y_k}}}\n",
    "$$\n",
    "* $log$: 밑이 $e$인 자연로그\n",
    "* $y_k$: 신경망의 출력\n",
    "* $t_k$: 정답 레이블\n",
    "\n",
    "$t_k$는 정답에 해당하는 인덱스만 1이고 나머지는 0인 원-핫 인코딩이 적용된 배열이다.  \n",
    "따라서 위의 식은 실질적으로 정답일 때의 추정의 자연로그 값이 된다.  \n",
    "> e.g. 정답 레이블은 2이고, 이 때의 신경망 출력이 0.6이라면 교차 엔트로피 오차는 $-\\log0.6$, 약 0.51이 된다. 또한, 같은 조건에서 신경망 출력이 0.1이라면 $-\\log0.1$, 약 2.30이 된다. 즉, 교차 엔트로피 오차는 정답일 때의 출력이 전체 값을 정하게 된다."
   ]
  },
  {
   "cell_type": "code",
   "execution_count": 2,
   "id": "d8123111-18e2-4864-ae5d-1317edb4c1dd",
   "metadata": {},
   "outputs": [
    {
     "name": "stdout",
     "output_type": "stream",
     "text": [
      "0.510825457099338\n",
      "2.302584092994546\n"
     ]
    }
   ],
   "source": [
    "def cross_entropy_error(y, t):\n",
    "    delta = 1e-7\n",
    "    # np.log의 값이 0으로 -inf가 되지 않게 하기 위해 아주 작은 값인 delta를 더한다.\n",
    "    return -np.sum(t * np.log(y + delta))\n",
    "# 정답은 2\n",
    "t = [0, 0, 1, 0, 0, 0, 0, 0, 0, 0]\n",
    "\n",
    "y = [0.1, 0.05, 0.6, 0.0, 0.05, 0.1, 0.0, 0.1, 0.0, 0.0]\n",
    "print(cross_entropy_error(np.array(y), np.array(t)))\n",
    "\n",
    "# 입력 이미지가 7일 확률이 가장 높다고 가정\n",
    "y = [0.1, 0.05, 0.1, 0.0, 0.05, 0.1, 0.0, 0.6, 0.0, 0.0]\n",
    "print(cross_entropy_error(np.array(y), np.array(t)))"
   ]
  },
  {
   "cell_type": "markdown",
   "id": "ac21c22f-3966-4b28-aaee-e062a325da21",
   "metadata": {},
   "source": [
    "## 전체 데이터에 대한 교차 엔트로피 오차의 합\n",
    "\n",
    "$$\n",
    "E = -{1\\over N}\\sum_{n}\\sum_{k}{t_{nk}{\\log{y_{nk}}}}\n",
    "$$\n",
    "전체 데이터의 학습 결과에 따른 교차 엔트로피 오차의 합을 N으로 나눠 교차 엔트로피 오차 평균을 구한다.  \n",
    "> 데이터가 커지면 커질수록 전체 데이터를 가지고 결과를 내기엔 한계가 있기에 그 중 일부를 추려 '근사치'로 이용하는 '미니배치'를 사용하기도 한다.\n",
    "60,000장의 훈련 데이터 중 100장을 무작위로 뽑아 그 100장만을 사용하여 학습하는 것을 '미니 배치 학습'이라고 한다."
   ]
  },
  {
   "cell_type": "code",
   "execution_count": 3,
   "id": "41c978d7-eb1a-4ba1-b150-4b2fa3411da3",
   "metadata": {},
   "outputs": [
    {
     "name": "stdout",
     "output_type": "stream",
     "text": [
      "(60000, 784)\n",
      "(60000, 10)\n"
     ]
    }
   ],
   "source": [
    "import sys, os\n",
    "sys.path.append(os.pardir)\n",
    "import numpy as np\n",
    "from dataset.mnist import load_mnist\n",
    "\n",
    "(X_train, y_train), (X_test, y_test) = load_mnist(normalize=True, one_hot_label=True)\n",
    "\n",
    "print(X_train.shape)\n",
    "print(y_train.shape)"
   ]
  },
  {
   "cell_type": "code",
   "execution_count": 4,
   "id": "fe736c2a-572f-41c1-976d-3a5a30449d84",
   "metadata": {},
   "outputs": [
    {
     "name": "stdout",
     "output_type": "stream",
     "text": [
      "[53817 24380 54243 57497 23184 20712 53484 53069 27230 53397]\n",
      "[[0. 0. 0. ... 0. 0. 0.]\n",
      " [0. 0. 0. ... 0. 0. 0.]\n",
      " [0. 0. 0. ... 0. 0. 0.]\n",
      " ...\n",
      " [0. 0. 0. ... 0. 0. 0.]\n",
      " [0. 0. 0. ... 0. 0. 0.]\n",
      " [0. 0. 0. ... 0. 0. 0.]]\n",
      "[[0. 0. 0. 0. 0. 0. 0. 0. 1. 0.]\n",
      " [0. 0. 0. 0. 0. 0. 1. 0. 0. 0.]\n",
      " [0. 0. 0. 0. 0. 0. 0. 0. 1. 0.]\n",
      " [0. 0. 0. 0. 0. 1. 0. 0. 0. 0.]\n",
      " [0. 0. 0. 0. 0. 0. 0. 0. 1. 0.]\n",
      " [0. 0. 0. 0. 0. 0. 0. 0. 1. 0.]\n",
      " [0. 1. 0. 0. 0. 0. 0. 0. 0. 0.]\n",
      " [0. 0. 0. 0. 0. 1. 0. 0. 0. 0.]\n",
      " [0. 0. 0. 0. 0. 0. 0. 0. 0. 1.]\n",
      " [0. 0. 0. 0. 0. 0. 0. 0. 0. 1.]]\n"
     ]
    }
   ],
   "source": [
    "train_size = X_train.shape[0]\n",
    "batch_size = 10\n",
    "batch_mask = np.random.choice(train_size, batch_size)\n",
    "X_batch = X_train[batch_mask]\n",
    "y_batch = y_train[batch_mask]\n",
    "\n",
    "print(batch_mask)\n",
    "print(X_batch)\n",
    "print(y_batch)"
   ]
  },
  {
   "cell_type": "code",
   "execution_count": 5,
   "id": "1ddec3c5-09a6-4a20-a5d0-61dfddf76eab",
   "metadata": {},
   "outputs": [
    {
     "name": "stdout",
     "output_type": "stream",
     "text": [
      "0.510825457099338\n",
      "23.718987110506905\n"
     ]
    }
   ],
   "source": [
    "def cross_entropy_error_encoded(y, t):\n",
    "    if y.ndim == 1:\n",
    "        t = t.reshape(1, t.size)\n",
    "        y = y.reshape(1, y.size)\n",
    "\n",
    "    batch_size = y.shape[0]\n",
    "    return -np.sum(t*np.log(y+1e-7))/batch_size\n",
    "\n",
    "def cross_entropy_error_label(y, t):\n",
    "    if y.ndim == 1:\n",
    "        t = t.reshape(1, t.size)\n",
    "        y = y.reshape(1, y.size)\n",
    "\n",
    "    batch_size = y.shape[0]\n",
    "    return -np.sum(np.log(y[np.arange(batch_size), t]+ 1e-7))/batch_size\n",
    "\n",
    "# 정답은 2\n",
    "t = [0, 0, 1, 0, 0, 0, 0, 0, 0, 0]\n",
    "\n",
    "y = [0.1, 0.05, 0.6, 0.0, 0.05, 0.1, 0.0, 0.1, 0.0, 0.0]\n",
    "print(cross_entropy_error_encoded(np.array(y), np.array(t)))\n",
    "\n",
    "# 입력 이미지가 7일 확률이 가장 높다고 가정\n",
    "y = [0.1, 0.05, 0.1, 0.0, 0.05, 0.1, 0.0, 0.6, 0.0, 0.0]\n",
    "print(cross_entropy_error_label(np.array(y), np.array(t)))"
   ]
  },
  {
   "cell_type": "markdown",
   "id": "906aec09-afa6-4e3a-90ed-aaabb0f4decc",
   "metadata": {},
   "source": [
    "### 왜 손실 함수를 사용하는가?\n",
    "* 정확도를 지표로 삼으면 대부분의 값의 미분이 0이 된다.\n",
    "* 손실 함수는 연속적인 값이기 때문에 미분이 0이 될 염려가 없다."
   ]
  },
  {
   "cell_type": "markdown",
   "id": "1a2cc35e-3842-4bb2-aebd-21ad4947ba5a",
   "metadata": {},
   "source": [
    "## 미분\n",
    "\n",
    "$$\n",
    "{df(x)\\over dx} = \\displaystyle\\lim_{h\\to 0}{f(x+h) - f(x)\\over h}\n",
    "$$\n",
    "위의 식을 코드로 작성하면 아래와 같다."
   ]
  },
  {
   "cell_type": "code",
   "execution_count": 6,
   "id": "f7189626-c959-4468-8bc3-4d9d3355cd36",
   "metadata": {},
   "outputs": [],
   "source": [
    "def numerical_diff(f, x):\n",
    "    h = 1e-50\n",
    "    return (f(x+h)-f(x))/h"
   ]
  },
  {
   "cell_type": "markdown",
   "id": "dd1f1172-0fb4-4f99-81e1-6ba92e3aa25e",
   "metadata": {},
   "source": [
    "이러한 미분을 수치 미분이라 하는데, 수치 미분은 정확한 수학적 미분을 구할 수 없는 상황에서 사용하는 미분 근사치를 구하는 방법이다.\n",
    "> 위의 코드에는 개선해야 할 두 가지 문제점이 있다.\n",
    "* 반올림 오차 문제: 0의 근접값을 표현하기 위해 위와 같이 표기를 한다면 반올림 문제가 생기기 때문에 오차가 생기게 된다.\n",
    "* 차분 문제: 진정한 미분은 x위치의 기울기에 해당하지만, 위의 구현에서는 (x_h)와 x사이의 기울기에 해당한다. 그렇기에 실제 기울기와 차이가 생길 수 밖에 없고 이 차이를 줄이기 위해 **중앙 차분**을 쓰기도 한다.\n",
    "    * 중앙 차분: $(x+h) - (x-h)$\n",
    "\n",
    "이 두 문제점을 개선한 미분 공식은 아래와 같다."
   ]
  },
  {
   "cell_type": "code",
   "execution_count": 7,
   "id": "01f64d1c-ecdd-428d-ae50-32bd2bd47dc1",
   "metadata": {},
   "outputs": [],
   "source": [
    "def numerical_diff(f, x):\n",
    "    h = 1e-4\n",
    "    return (f(x+h)-f(x-h))/(2*h)"
   ]
  },
  {
   "cell_type": "code",
   "execution_count": 8,
   "id": "1da95b1f-0903-4ca1-806d-0c978add5723",
   "metadata": {},
   "outputs": [],
   "source": [
    "# 간단한 미분 구현\n",
    "def function_1(x):\n",
    "    return 0.01*x**2+0.1*x"
   ]
  },
  {
   "cell_type": "code",
   "execution_count": 9,
   "id": "fb65954c-4f49-4ce2-8c5e-2c91fd6eb73b",
   "metadata": {},
   "outputs": [
    {
     "data": {
      "image/png": "[encoded data removed]",
      "text/plain": [
       "<Figure size 640x480 with 1 Axes>"
      ]
     },
     "metadata": {},
     "output_type": "display_data"
    }
   ],
   "source": [
    "import numpy as np\n",
    "import matplotlib.pylab as plt\n",
    "\n",
    "x = np.arange(0.0, 20.0, 0.1)\n",
    "y = function_1(x)\n",
    "plt.xlabel('x')\n",
    "plt.ylabel('f(x)')\n",
    "plt.plot(x, y)\n",
    "plt.show()"
   ]
  },
  {
   "cell_type": "code",
   "execution_count": 10,
   "id": "032fb0e3-d602-4599-be40-750dfae2f695",
   "metadata": {},
   "outputs": [
    {
     "name": "stdout",
     "output_type": "stream",
     "text": [
      "0.1999999999990898\n",
      "0.2999999999986347\n"
     ]
    }
   ],
   "source": [
    "print(numerical_diff(function_1,5))\n",
    "print(numerical_diff(function_1,10))"
   ]
  },
  {
   "cell_type": "markdown",
   "id": "51769b0c-74dc-4af4-af0a-42d3917013d2",
   "metadata": {},
   "source": [
    "$0.01x^2+0.1x$의 미분은 $0.02x+0.1$로 5와 10을 대입하면 각각 0.2와 0.3이 된다.  \n",
    "개선된 수치미분을 사용하면 실제 값과 오차가 거의 없다는 것을 확인할 수 있다."
   ]
  },
  {
   "cell_type": "markdown",
   "id": "878f8a2e-730b-4f13-aec0-e07da6c93377",
   "metadata": {},
   "source": [
    "## 편미분\n",
    "$$\n",
    "f(x_0, x_1) = {x_0}^2 + {x_1}^2\n",
    "$$\n",
    "\n",
    "<br>\n",
    "\n",
    "### 편미분 수식\n",
    "$$\n",
    "{\\partial f \\over \\partial x_0} or {\\partial f \\over \\partial x_1}\n",
    "$$"
   ]
  },
  {
   "cell_type": "code",
   "execution_count": 11,
   "id": "df74aa6c-327d-45e4-97e2-6285e4be80a7",
   "metadata": {},
   "outputs": [],
   "source": [
    "def function_2(x):\n",
    "    return np.sum(x**2)"
   ]
  },
  {
   "cell_type": "code",
   "execution_count": 12,
   "id": "a42f5fee-11fb-44aa-ae84-a49ae6b40d3c",
   "metadata": {},
   "outputs": [
    {
     "data": {
      "text/plain": [
       "6.00000000000378"
      ]
     },
     "execution_count": 12,
     "metadata": {},
     "output_type": "execute_result"
    }
   ],
   "source": [
    "def function_tmp1(x0):\n",
    "    return x0*x0 + 4.0**2.0\n",
    "\n",
    "numerical_diff(function_tmp1, 3.0)"
   ]
  },
  {
   "cell_type": "code",
   "execution_count": 13,
   "id": "c88469ef-a8d0-463f-87d7-3cf07991db41",
   "metadata": {},
   "outputs": [
    {
     "data": {
      "text/plain": [
       "7.999999999999119"
      ]
     },
     "execution_count": 13,
     "metadata": {},
     "output_type": "execute_result"
    }
   ],
   "source": [
    "def function_tmp2(x1):\n",
    "    return 3.0**2.0 + x1*x1\n",
    "\n",
    "numerical_diff(function_tmp1, 4.0)"
   ]
  },
  {
   "cell_type": "markdown",
   "id": "6cff895a-941b-4edf-9175-461da10ceb1a",
   "metadata": {},
   "source": [
    "## 기울기\n",
    "* 모든 변수의 편미분을 벡터로 정리한 것"
   ]
  },
  {
   "cell_type": "code",
   "execution_count": 14,
   "id": "7adb0aec-a19a-4cc1-84e4-c5bb3a53c64a",
   "metadata": {},
   "outputs": [],
   "source": [
    "def numerical_gradient(f, x):\n",
    "    h = 1e-4\n",
    "    grad = np.zeros_like(x)\n",
    "\n",
    "    for idx in range(x.size):\n",
    "        tmp_val = x[idx]\n",
    "\n",
    "        x[idx] = tmp_val + h\n",
    "        fxh1 = f(x)\n",
    "\n",
    "        x[idx] = tmp_val - h\n",
    "        fxh2 = f(x)\n",
    "\n",
    "        grad[idx] = (fxh1 - fxh2) / (2*h)\n",
    "        x[idx] =  tmp_val\n",
    "\n",
    "    return grad"
   ]
  },
  {
   "cell_type": "code",
   "execution_count": 15,
   "id": "317f7e12-a3d5-48dc-905a-b9b72c930697",
   "metadata": {},
   "outputs": [
    {
     "name": "stdout",
     "output_type": "stream",
     "text": [
      "[6. 8.]\n",
      "[0. 4.]\n",
      "[6. 0.]\n"
     ]
    }
   ],
   "source": [
    "print(numerical_gradient(function_2, np.array([3.0,4.0])))\n",
    "print(numerical_gradient(function_2, np.array([0.0,2.0])))\n",
    "print(numerical_gradient(function_2, np.array([3.0,0.0])))"
   ]
  },
  {
   "cell_type": "code",
   "execution_count": 16,
   "id": "dbbd2776-e14a-47ec-903f-148b32a43cfe",
   "metadata": {},
   "outputs": [
    {
     "name": "stderr",
     "output_type": "stream",
     "text": [
      "No artists with labels found to put in legend.  Note that artists whose label start with an underscore are ignored when legend() is called with no argument.\n"
     ]
    },
    {
     "data": {
      "image/png": "[encoded data removed]",
      "text/plain": [
       "<Figure size 640x480 with 1 Axes>"
      ]
     },
     "metadata": {},
     "output_type": "display_data"
    }
   ],
   "source": [
    "import numpy as np\n",
    "import matplotlib.pylab as plt\n",
    "from mpl_toolkits.mplot3d import Axes3D\n",
    "\n",
    "\n",
    "def _numerical_gradient_no_batch(f, x):\n",
    "    h = 1e-4 # 0.0001\n",
    "    grad = np.zeros_like(x) # x와 형상이 같은 배열을 생성\n",
    "    \n",
    "    for idx in range(x.size):\n",
    "        tmp_val = x[idx]\n",
    "        \n",
    "        # f(x+h) 계산\n",
    "        x[idx] = float(tmp_val) + h\n",
    "        fxh1 = f(x)\n",
    "        \n",
    "        # f(x-h) 계산\n",
    "        x[idx] = tmp_val - h \n",
    "        fxh2 = f(x) \n",
    "        \n",
    "        grad[idx] = (fxh1 - fxh2) / (2*h)\n",
    "        x[idx] = tmp_val # 값 복원\n",
    "        \n",
    "    return grad\n",
    "\n",
    "\n",
    "def numerical_gradient(f, X):\n",
    "    if X.ndim == 1:\n",
    "        return _numerical_gradient_no_batch(f, X)\n",
    "    else:\n",
    "        grad = np.zeros_like(X)\n",
    "        \n",
    "        for idx, x in enumerate(X):\n",
    "            grad[idx] = _numerical_gradient_no_batch(f, x)\n",
    "        \n",
    "        return grad\n",
    "\n",
    "\n",
    "def function_2(x):\n",
    "    if x.ndim == 1:\n",
    "        return np.sum(x**2)\n",
    "    else:\n",
    "        return np.sum(x**2, axis=1)\n",
    "\n",
    "\n",
    "def tangent_line(f, x):\n",
    "    d = numerical_gradient(f, x)\n",
    "    print(d)\n",
    "    y = f(x) - d*x\n",
    "    return lambda t: d*t + y\n",
    "     \n",
    "if __name__ == '__main__':\n",
    "    x0 = np.arange(-2, 2.5, 0.25)\n",
    "    x1 = np.arange(-2, 2.5, 0.25)\n",
    "    X, Y = np.meshgrid(x0, x1)\n",
    "    \n",
    "    X = X.flatten()\n",
    "    Y = Y.flatten()\n",
    "    \n",
    "    grad = numerical_gradient(function_2, np.array([X, Y]) )\n",
    "    \n",
    "    plt.figure()\n",
    "    plt.quiver(X, Y, -grad[0], -grad[1],  angles=\"xy\",color=\"#666666\")#,headwidth=10,scale=40,color=\"#444444\")\n",
    "    plt.xlim([-2, 2])\n",
    "    plt.ylim([-2, 2])\n",
    "    plt.xlabel('x0')\n",
    "    plt.ylabel('x1')\n",
    "    plt.grid()\n",
    "    plt.legend()\n",
    "    plt.draw()\n",
    "    plt.show()"
   ]
  },
  {
   "cell_type": "markdown",
   "id": "255b0597-3590-406b-9aaa-f8a8e02ef77f",
   "metadata": {},
   "source": [
    "* 기울기가 가리키는 쪽은 각 장소에서 함수의 출력 값을 가장 크게 줄이는 방향이다."
   ]
  },
  {
   "cell_type": "markdown",
   "id": "945411d5-c8ee-4881-8955-c91e4fe6867a",
   "metadata": {},
   "source": [
    "## 경사하강법\n",
    "* 기울기를 이용하여 손실함수의 최소값을 찾으려는 방법\n",
    "\n",
    "$$\n",
    "x_0 = x_0 - {\\eta{\\partial f \\over \\partial x_0}}\n",
    "$$\n",
    "$$\n",
    "x_1 = x_1 - {\\eta{\\partial f \\over \\partial x_1}}\n",
    "$$\n",
    "$\\eta$기호는 신경망 학습에서 학습률이라고 부른다.\n",
    "> 위의 수식은 1회에 대한 갱신이고, 갱신을 반복하면서 서서히 함수의 값을 줄이는 것이 목표이다.  \n",
    "> 변수의 수가 늘어나도 같은 식(각 변수의 편미분 값)으로 갱신하게 된다."
   ]
  },
  {
   "cell_type": "code",
   "execution_count": 17,
   "id": "5def5d45-4fd8-4f05-8434-320cbc03b717",
   "metadata": {},
   "outputs": [],
   "source": [
    "def gradient_descent(f, init_x, lr=0.01, step_num=100):\n",
    "    x = init_x\n",
    "\n",
    "    for i in range(step_num):\n",
    "        grad = numerical_gradient(f, x)\n",
    "        x -= lr * grad\n",
    "\n",
    "    return x"
   ]
  },
  {
   "cell_type": "code",
   "execution_count": 18,
   "id": "3f709574-5a10-4407-a1e9-dbd4be67ea5d",
   "metadata": {},
   "outputs": [
    {
     "data": {
      "text/plain": [
       "array([-6.11110793e-10,  8.14814391e-10])"
      ]
     },
     "execution_count": 18,
     "metadata": {},
     "output_type": "execute_result"
    }
   ],
   "source": [
    "def function_2(x):\n",
    "    return x[0]**2 + x[1]**2\n",
    "\n",
    "init_x = np.array([-3.0, 4.0])\n",
    "gradient_descent(function_2, init_x, 0.1, 100)"
   ]
  },
  {
   "cell_type": "code",
   "execution_count": 19,
   "id": "b2eeb1a7-452a-453e-9de7-f549c44df483",
   "metadata": {},
   "outputs": [
    {
     "data": {
      "text/plain": [
       "(array([-2.58983747e+13, -1.29524862e+12]), array([-2.99999994,  3.99999992]))"
      ]
     },
     "execution_count": 19,
     "metadata": {},
     "output_type": "execute_result"
    }
   ],
   "source": [
    "# 학습률이 너무 큰 경우\n",
    "init_x = np.array([-3.0, 4.0])\n",
    "over = gradient_descent(function_2, init_x=init_x, lr=10.0, step_num=100)\n",
    "# 학습률이 너무 작은 경우\n",
    "init_x = np.array([-3.0, 4.0])\n",
    "under = gradient_descent(function_2, init_x=init_x, lr=1e-10, step_num=100)\n",
    "over, under"
   ]
  },
  {
   "cell_type": "code",
   "execution_count": 20,
   "id": "b35bc78d-a943-4e92-bc9b-b3b44ed3223f",
   "metadata": {},
   "outputs": [
    {
     "data": {
      "image/png": "[encoded data removed]",
      "text/plain": [
       "<Figure size 640x480 with 1 Axes>"
      ]
     },
     "metadata": {},
     "output_type": "display_data"
    }
   ],
   "source": [
    "import numpy as np\n",
    "import matplotlib.pylab as plt\n",
    "\n",
    "def gradient_descent(f, init_x, lr=0.01, step_num=100):\n",
    "    x = init_x\n",
    "    x_history = []\n",
    "\n",
    "    for i in range(step_num):\n",
    "        x_history.append( x.copy() )\n",
    "\n",
    "        grad = numerical_gradient(f, x)\n",
    "        x -= lr * grad\n",
    "\n",
    "    return x, np.array(x_history)\n",
    "\n",
    "\n",
    "def function_2(x):\n",
    "    return x[0]**2 + x[1]**2\n",
    "\n",
    "# 적절한 학습량\n",
    "init_x = np.array([-3.0, 4.0])    \n",
    "\n",
    "x, x_history = gradient_descent(function_2, init_x, lr=0.1, step_num=100)\n",
    "\n",
    "plt.plot( [-5, 5], [0,0], '--b')\n",
    "plt.plot( [0,0], [-5, 5], '--b')\n",
    "plt.plot(x_history[:,0], x_history[:,1], 'o')\n",
    "\n",
    "plt.xlim(-3.5, 3.5)\n",
    "plt.ylim(-4.5, 4.5)\n",
    "plt.xlabel(\"X0\")\n",
    "plt.ylabel(\"X1\")\n",
    "\n",
    "# 너무 많은 학습량\n",
    "init_x = np.array([-3.0, 4.0])    \n",
    "\n",
    "x, x_history = gradient_descent(function_2, init_x, lr=10.0, step_num=100)\n",
    "\n",
    "plt.plot( [-5, 5], [0,0], '--b')\n",
    "plt.plot( [0,0], [-5, 5], '--b')\n",
    "plt.plot(x_history[:,0], x_history[:,1], 'o')\n",
    "\n",
    "plt.xlim(-3.5, 3.5)\n",
    "plt.ylim(-4.5, 4.5)\n",
    "plt.xlabel(\"X0\")\n",
    "plt.ylabel(\"X1\")\n",
    "\n",
    "# 너무 적은 학습량\n",
    "init_x = np.array([-3.0, 4.0])    \n",
    "\n",
    "x, x_history = gradient_descent(function_2, init_x, lr=1e-10, step_num=100)\n",
    "\n",
    "plt.plot( [-5, 5], [0,0], '--b')\n",
    "plt.plot( [0,0], [-5, 5], '--b')\n",
    "plt.plot(x_history[:,0], x_history[:,1], 'o')\n",
    "\n",
    "plt.xlim(-3.5, 3.5)\n",
    "plt.ylim(-4.5, 4.5)\n",
    "plt.xlabel(\"X0\")\n",
    "plt.ylabel(\"X1\")\n",
    "\n",
    "plt.show()\n"
   ]
  },
  {
   "cell_type": "markdown",
   "id": "2882236a-99c0-4e29-96cf-12fb720fd64c",
   "metadata": {},
   "source": [
    "## 신경망에서의 기울기\n",
    "* 가중치가 $W$, 손실 함수가 $L$인 신경망을 $\\partial L \\over \\partial W$으로 나타낼 수 있다.\n",
    "\n",
    "$$\n",
    "W = \\begin{pmatrix}w_11&w_12&w_13\\\\w_21&w_22&w_23\\\\ \\end{pmatrix}\n",
    "$$\n",
    "$$\n",
    "{\\partial L \\over \\partial W} = \\begin{pmatrix}\\partial L \\over \\partial w_11&\\partial L \\over \\partial w_12&\\partial L \\over \\partial w_13\\\\ \\partial L \\over \\partial w_21&\\partial L \\over \\partial w_22&\\partial L \\over \\partial w_23\\\\ \\end{pmatrix}\n",
    "$$\n",
    "* $\\partial L \\over \\partial W$의 형상과 $W$의 형상이 2X3으로 같다."
   ]
  },
  {
   "cell_type": "code",
   "execution_count": 21,
   "id": "b5e2cae6-3920-4b2d-a944-4586e0c5f800",
   "metadata": {},
   "outputs": [],
   "source": [
    "import sys, os\n",
    "sys.path.append(os.pardir)\n",
    "import numpy as np\n",
    "from common.functions import softmax, cross_entropy_error\n",
    "from common.gradient import numerical_gradient\n",
    "\n",
    "class simpleNet:\n",
    "    def __init__(self):\n",
    "        self.W = np.random.randn(2,3)\n",
    "\n",
    "    def predict(self, x):\n",
    "        return np.dot(x, self.W)\n",
    "\n",
    "    def loss(self, x, t):\n",
    "        z = self.predict(x)\n",
    "        y = softmax(z)\n",
    "        loss = cross_entropy_error(y, t)\n",
    "\n",
    "        return loss"
   ]
  },
  {
   "cell_type": "code",
   "execution_count": 22,
   "id": "0d4b431e-6bd2-4756-995c-1d028465a576",
   "metadata": {},
   "outputs": [
    {
     "name": "stdout",
     "output_type": "stream",
     "text": [
      "[[ 0.12396517 -0.41264527  1.18039364]\n",
      " [-1.54348243  0.47172443 -0.22313808]]\n"
     ]
    }
   ],
   "source": [
    "net = simpleNet()\n",
    "print(net.W)"
   ]
  },
  {
   "cell_type": "code",
   "execution_count": 23,
   "id": "e30b5dd8-3e32-4690-ae37-8bde8cdc87b4",
   "metadata": {},
   "outputs": [
    {
     "name": "stdout",
     "output_type": "stream",
     "text": [
      "[-1.31475509  0.17696482  0.50741191]\n"
     ]
    },
    {
     "data": {
      "text/plain": [
       "2"
      ]
     },
     "execution_count": 23,
     "metadata": {},
     "output_type": "execute_result"
    }
   ],
   "source": [
    "x = np.array([0.6, 0.9])\n",
    "p = net.predict(x)\n",
    "print(p)\n",
    "\n",
    "np.argmax(p)"
   ]
  },
  {
   "cell_type": "code",
   "execution_count": 24,
   "id": "c0dbb608-95da-4381-8ea1-2ae4c0dda6c0",
   "metadata": {},
   "outputs": [
    {
     "data": {
      "text/plain": [
       "0.6314191361482381"
      ]
     },
     "execution_count": 24,
     "metadata": {},
     "output_type": "execute_result"
    }
   ],
   "source": [
    "t = np.array([0, 0, 1])\n",
    "net.loss(x, t)"
   ]
  },
  {
   "cell_type": "code",
   "execution_count": 27,
   "id": "af5a6e97-64cf-42b8-b5a0-818ac44c54ef",
   "metadata": {},
   "outputs": [
    {
     "name": "stdout",
     "output_type": "stream",
     "text": [
      "[[ 0.05159079  0.22930731 -0.2808981 ]\n",
      " [ 0.07738618  0.34396096 -0.42134715]]\n"
     ]
    }
   ],
   "source": [
    "def f(W):\n",
    "    return net.loss(x, t)\n",
    "\n",
    "dW = numerical_gradient(f, net.W)\n",
    "print(dW)"
   ]
  },
  {
   "cell_type": "code",
   "execution_count": 28,
   "id": "8a38987e-5915-4e21-85b5-5e1cc447d996",
   "metadata": {},
   "outputs": [
    {
     "name": "stdout",
     "output_type": "stream",
     "text": [
      "[[ 0.05159079  0.22930731 -0.2808981 ]\n",
      " [ 0.07738618  0.34396096 -0.42134715]]\n"
     ]
    }
   ],
   "source": [
    "f = lambda w: net.loss(x, t)\n",
    "\n",
    "dW = numerical_gradient(f, net.W)\n",
    "print(dW)"
   ]
  },
  {
   "cell_type": "markdown",
   "id": "cafe6e4b-7ebc-4842-ae41-c42c82d5331d",
   "metadata": {},
   "source": [
    "## 학습 알고리즘 구현\n",
    "* 전제: 신경망에는 적응 가능한 가중치와 편향이 있고, 이 가중치와 편향을 훈련 데이터에 적응하도록 조정하는 과정을 '학습'이라고 한다.\n",
    "1. 미니 배치\n",
    "   * 훈련 데이터 중 일부를 무작위로 가져온다. 이렇게 선별한 데이터를 미니배치라 하며, 그 미니배치의 손실 함수 값을 줄이는 것이 목표이다.\n",
    "2. 기울기 산출\n",
    "   * 미니 배치의 손실 함수 값을 줄이기 위해 각 가중치 매개변수의 기울기를 구한다. 기울기는 손실 함수의 값을 가장 작게 하는 방향을 제시한다.\n",
    "3. 매개변수 갱신\n",
    "   * 가중치 매개변수를 기울기 방향으로 아주 조금 갱신한다.\n",
    "4. 반복\n",
    "   * 1~3단계를 반복한다.\n",
    "  \n",
    "위의 단계를 거친 알고리즘을 **확률적 경사 하강법**이라고 한다. 대부분의 딥러닝 프레임워크는 확률적 경사 하강법의 이니셜인 SGD라는 함수로 이 기능을 구현하고 있다."
   ]
  },
  {
   "cell_type": "code",
   "execution_count": null,
   "id": "58b66da2-32b0-4787-b8f6-f427989a67d1",
   "metadata": {},
   "outputs": [],
   "source": []
  }
 ],
 "metadata": {
  "kernelspec": {
   "display_name": "Python 3 (ipykernel)",
   "language": "python",
   "name": "python3"
  },
  "language_info": {
   "codemirror_mode": {
    "name": "ipython",
    "version": 3
   },
   "file_extension": ".py",
   "mimetype": "text/x-python",
   "name": "python",
   "nbconvert_exporter": "python",
   "pygments_lexer": "ipython3",
   "version": "3.8.18"
  }
 },
 "nbformat": 4,
 "nbformat_minor": 5
}
